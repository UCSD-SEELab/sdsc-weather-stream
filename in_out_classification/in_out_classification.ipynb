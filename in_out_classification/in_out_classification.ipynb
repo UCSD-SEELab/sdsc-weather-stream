{
 "cells": [
  {
   "cell_type": "markdown",
   "metadata": {},
   "source": [
    "### follow the idea found in these articles\n",
    "### doesn't use the number of satellites used\n",
    "#### https://www.ncbi.nlm.nih.gov/pmc/articles/PMC4046178/\n",
    "#### https://pubs.rsc.org/en/content/articlelanding/2012/EM/c2em30190c#!divAbstract\n",
    "#### The test dataset, due to technical difficulty, has a 7 hour differences, compared with activity diary"
   ]
  },
  {
   "cell_type": "code",
   "execution_count": 1,
   "metadata": {},
   "outputs": [],
   "source": [
    "import pandas as pd\n",
    "import numpy as np\n",
    "from datetime import datetime"
   ]
  },
  {
   "cell_type": "markdown",
   "metadata": {},
   "source": [
    "## data was collected through the 'GPS tracker' App offered in iOS\n",
    "#### Three sample days were collected by Lori and then processed using the following code\n",
    "#### each day collected around 9 hrs of data"
   ]
  },
  {
   "cell_type": "code",
   "execution_count": 2,
   "metadata": {},
   "outputs": [],
   "source": [
    "filename = ['Test_1.csv','Test_2.csv','Test_3.csv']\n",
    "outputname = ['sep_26_manual.xlsx','sep_27_manual.xlsx','sep_28_manual.xlsx']"
   ]
  },
  {
   "cell_type": "markdown",
   "metadata": {},
   "source": [
    "#### Additional idea: Indoor status was confirmed only when the used-NSAT was maintained for at least 3 min. \n",
    "#### Speed was utilized to further classify outdoor points into transit or walking. Walking status was finalized only when the speed was maintained for at least 3 min. \n",
    "### my approach: assign 0 to indoor, 1 to outdoor, 2 to in transit"
   ]
  },
  {
   "cell_type": "code",
   "execution_count": 3,
   "metadata": {},
   "outputs": [],
   "source": [
    "for j in range (len(filename)):\n",
    "    GPS = pd.read_csv(filename[j],delimiter=';',header=0)\n",
    "    # convert from UTC to US/Pacific timezone\n",
    "    GPS['new_time'] = pd.to_datetime(GPS['timestamp']).dt.tz_convert('US/Pacific').dt.tz_localize(None)\n",
    "    GPS.drop('timestamp',axis=1,inplace=True)\n",
    "    GPS.drop_duplicates(inplace=True)\n",
    "    GPS['dummy'] = 0 # solve the duplicated indices\n",
    "    GPS = GPS.groupby('dummy').apply(lambda x : x.drop_duplicates('new_time')\n",
    "                                          .set_index('new_time')\n",
    "                                          .resample('10S') # resample to every 10s\n",
    "                                          .ffill())\n",
    "    GPS.drop('dummy',axis=1,inplace=True)\n",
    "    GPS = GPS.iloc[1:,:] # drop first null column\n",
    "    \n",
    "    # manually assign label for different conditions\n",
    "    GPS['manual_judgement'] = 0\n",
    "    # using vertical/horizontal accuracy and speed to classify the condition\n",
    "    for i in range(GPS.shape[0]):\n",
    "        if GPS.iloc[i,5] <= 0:\n",
    "            if GPS.iloc[i,3] >= 50: # would mis-classify when the user is near window ( would be like 30, or 10 ish)\n",
    "                GPS.iloc[i,-1] = 0\n",
    "            else:\n",
    "                GPS.iloc[i,-1] = 1\n",
    "        elif GPS.iloc[i,5] <=8: # normal walking speed is 3-6, running is 12-14\n",
    "            if GPS.iloc[i,3] >= 50:\n",
    "                GPS.iloc[i,-1] = 0\n",
    "            else:\n",
    "                GPS.iloc[i,-1] = 1\n",
    "\n",
    "        else:\n",
    "            GPS.iloc[i,-1] = 2 # would mis-classify when the bus stopped for traffic\n",
    "            \n",
    "    GPS.to_excel(outputname[j])"
   ]
  },
  {
   "cell_type": "code",
   "execution_count": null,
   "metadata": {},
   "outputs": [],
   "source": []
  },
  {
   "cell_type": "code",
   "execution_count": 2,
   "metadata": {},
   "outputs": [],
   "source": [
    "openmap_26 = pd.read_csv('sep_26.csv')\n",
    "openmap_27 = pd.read_csv('sep_27.csv')"
   ]
  },
  {
   "cell_type": "markdown",
   "metadata": {},
   "source": [
    "## Data was recorded through Andriod app GPS Logger on Oct 7"
   ]
  },
  {
   "cell_type": "code",
   "execution_count": 85,
   "metadata": {},
   "outputs": [],
   "source": [
    "filename = ['GPS_logger_Oct_7.txt']\n",
    "outputname = ['logger_oct_7.xlsx']"
   ]
  },
  {
   "cell_type": "code",
   "execution_count": 86,
   "metadata": {},
   "outputs": [],
   "source": [
    "for i in range(len(filename)):\n",
    "    logger = pd.read_csv(filename[i],delimiter=',')\n",
    "    logger.drop(['type','name','desc','bearing(deg)'],axis=1,inplace=True)\n",
    "    logger['new_time'] = pd.to_datetime(logger['date time']).dt.tz_localize('UTC').dt.tz_convert('US/Pacific').dt.tz_localize(None)\n",
    "    logger.drop('date time',axis=1,inplace=True)\n",
    "    logger = logger.resample('10S',on='new_time').mean()\n",
    "    logger['sat_ratio'] = (logger['sat_used'] / logger['sat_inview']) *1.0\n",
    "    logger = logger.fillna(-1)\n",
    "    logger.to_excel(outputname[i])"
   ]
  }
 ],
 "metadata": {
  "kernelspec": {
   "display_name": "Python 3",
   "language": "python",
   "name": "python3"
  },
  "language_info": {
   "codemirror_mode": {
    "name": "ipython",
    "version": 3
   },
   "file_extension": ".py",
   "mimetype": "text/x-python",
   "name": "python",
   "nbconvert_exporter": "python",
   "pygments_lexer": "ipython3",
   "version": "3.7.4"
  }
 },
 "nbformat": 4,
 "nbformat_minor": 2
}
