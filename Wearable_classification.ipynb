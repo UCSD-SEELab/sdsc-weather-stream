{
 "cells": [
  {
   "cell_type": "code",
   "execution_count": 49,
   "metadata": {},
   "outputs": [],
   "source": [
    "import pandas as pd\n",
    "import numpy as np\n",
    "import sklearn\n",
    "from sklearn import svm\n",
    "from sklearn.utils import shuffle\n",
    "from sklearn.model_selection import train_test_split, cross_val_score\n",
    "from sklearn.metrics import mean_squared_error\n",
    "import matplotlib.pyplot as plt\n",
    "from sklearn.metrics import classification_report, confusion_matrix \n",
    "from keras.layers import Dense, Activation\n",
    "from keras.models import Sequential"
   ]
  },
  {
   "cell_type": "code",
   "execution_count": 7,
   "metadata": {},
   "outputs": [],
   "source": [
    "Out = pd.read_excel('Data_Folder/4_12_outsided_wearable.xlsx',header=0,index_col=0)\n",
    "In = pd.read_excel('Data_Folder/Demo4_20/4_20_wearable_inside.xlsx',header=0,index_col=0)"
   ]
  },
  {
   "cell_type": "code",
   "execution_count": 8,
   "metadata": {},
   "outputs": [],
   "source": [
    "In = In.resample('1T',on='#VALUE!').mean()\n",
    "Out = Out.fillna(method='ffill')\n",
    "In = In.fillna(method='ffill')\n",
    "Out = Out.resample('1T',on='time').mean()\n",
    "Out.drop(columns=['Time(s)'], inplace=True)\n",
    "In.drop(columns=['Time(s)'], inplace=True)\n",
    "Out.index = range(Out.shape[0])\n",
    "In.index = range(In.shape[0])\n",
    "In = In.iloc[:500,:]"
   ]
  },
  {
   "cell_type": "code",
   "execution_count": 9,
   "metadata": {},
   "outputs": [],
   "source": [
    "In_label = np.ones((In.shape[0],), dtype=int)\n",
    "Out_label = np.zeros((Out.shape[0],), dtype=int)\n",
    "In['label'] = In_label\n",
    "Out['label'] = Out_label"
   ]
  },
  {
   "cell_type": "code",
   "execution_count": 10,
   "metadata": {},
   "outputs": [],
   "source": [
    "DF = pd.concat([In,Out],axis=0)\n",
    "DF = shuffle(DF)"
   ]
  },
  {
   "cell_type": "markdown",
   "metadata": {},
   "source": [
    "### SVC, NuSVC, LinearSVC"
   ]
  },
  {
   "cell_type": "code",
   "execution_count": 36,
   "metadata": {},
   "outputs": [
    {
     "data": {
      "text/plain": [
       "SVC(C=1.0, cache_size=200, class_weight=None, coef0=0.0,\n",
       "  decision_function_shape='ovr', degree=3, gamma='auto_deprecated',\n",
       "  kernel='linear', max_iter=-1, probability=False, random_state=None,\n",
       "  shrinking=True, tol=0.001, verbose=False)"
      ]
     },
     "execution_count": 36,
     "metadata": {},
     "output_type": "execute_result"
    }
   ],
   "source": [
    "X_train, X_test, y_train, y_test = train_test_split(DF.iloc[:,:6], DF.iloc[:,6:], test_size = 0.2, random_state = 0)\n",
    "classifier = svm.SVC(kernel='linear')\n",
    "classifier.fit(X_train,y_train)"
   ]
  },
  {
   "cell_type": "code",
   "execution_count": 37,
   "metadata": {},
   "outputs": [
    {
     "name": "stdout",
     "output_type": "stream",
     "text": [
      "[[198   0]\n",
      " [  0 102]]\n",
      "              precision    recall  f1-score   support\n",
      "\n",
      "           0       1.00      1.00      1.00       198\n",
      "           1       1.00      1.00      1.00       102\n",
      "\n",
      "   micro avg       1.00      1.00      1.00       300\n",
      "   macro avg       1.00      1.00      1.00       300\n",
      "weighted avg       1.00      1.00      1.00       300\n",
      "\n"
     ]
    }
   ],
   "source": [
    "y_pred = classifier.predict(X_test)\n",
    "\n",
    "print(confusion_matrix(y_test,y_pred))  \n",
    "print(classification_report(y_test,y_pred))  \n"
   ]
  },
  {
   "cell_type": "code",
   "execution_count": 38,
   "metadata": {},
   "outputs": [
    {
     "name": "stdout",
     "output_type": "stream",
     "text": [
      "[[197   1]\n",
      " [  0 102]]\n",
      "              precision    recall  f1-score   support\n",
      "\n",
      "           0       1.00      0.99      1.00       198\n",
      "           1       0.99      1.00      1.00       102\n",
      "\n",
      "   micro avg       1.00      1.00      1.00       300\n",
      "   macro avg       1.00      1.00      1.00       300\n",
      "weighted avg       1.00      1.00      1.00       300\n",
      "\n"
     ]
    }
   ],
   "source": [
    "classifier2 = svm.SVC(kernel='poly',degree=2)\n",
    "classifier2.fit(X_train,y_train)\n",
    "y_pred = classifier2.predict(X_test)\n",
    "\n",
    "print(confusion_matrix(y_test,y_pred))  \n",
    "print(classification_report(y_test,y_pred))  "
   ]
  },
  {
   "cell_type": "code",
   "execution_count": 39,
   "metadata": {},
   "outputs": [],
   "source": [
    "\"\"\"the result is not good as the previous two\"\"\"\n",
    "classifier3 = svm.SVC(kernel='rbf')\n",
    "classifier3.fit(X_train,y_train)\n",
    "y_pred = classifier3.predict(X_test)\n",
    "\n",
    "#print(confusion_matrix(y_test,y_pred))  \n",
    "#print(classification_report(y_test,y_pred))  "
   ]
  },
  {
   "cell_type": "code",
   "execution_count": 40,
   "metadata": {},
   "outputs": [],
   "source": [
    "'''the result is not good as the previous two'''\n",
    "classifier4 = svm.SVC(kernel='sigmoid')\n",
    "classifier4.fit(X_train,y_train)\n",
    "y_pred = classifier4.predict(X_test)\n",
    "\n",
    "#print(confusion_matrix(y_test,y_pred))  \n",
    "#print(classification_report(y_test,y_pred))"
   ]
  },
  {
   "cell_type": "code",
   "execution_count": 41,
   "metadata": {},
   "outputs": [],
   "source": [
    "mixed = pd.read_csv('Data_Folder/Demo3_5/Wearable_label.csv')\n",
    "mixed.dropna(inplace=True)\n",
    "mixed = shuffle(mixed)\n",
    "mixed.drop(columns=['time'],inplace=True)"
   ]
  },
  {
   "cell_type": "code",
   "execution_count": 42,
   "metadata": {},
   "outputs": [
    {
     "name": "stdout",
     "output_type": "stream",
     "text": [
      "[[ 6  5]\n",
      " [15 29]]\n",
      "              precision    recall  f1-score   support\n",
      "\n",
      "         0.0       0.29      0.55      0.37        11\n",
      "         1.0       0.85      0.66      0.74        44\n",
      "\n",
      "   micro avg       0.64      0.64      0.64        55\n",
      "   macro avg       0.57      0.60      0.56        55\n",
      "weighted avg       0.74      0.64      0.67        55\n",
      "\n"
     ]
    }
   ],
   "source": [
    "y_pred = classifier.predict(mixed.iloc[:,:6])\n",
    "y_test_mixed = mixed.iloc[:,6:]\n",
    "print(confusion_matrix(y_test_mixed,y_pred))  \n",
    "print(classification_report(y_test_mixed,y_pred))  "
   ]
  },
  {
   "cell_type": "code",
   "execution_count": 43,
   "metadata": {},
   "outputs": [
    {
     "name": "stdout",
     "output_type": "stream",
     "text": [
      "[[ 6  5]\n",
      " [27 17]]\n",
      "              precision    recall  f1-score   support\n",
      "\n",
      "         0.0       0.18      0.55      0.27        11\n",
      "         1.0       0.77      0.39      0.52        44\n",
      "\n",
      "   micro avg       0.42      0.42      0.42        55\n",
      "   macro avg       0.48      0.47      0.39        55\n",
      "weighted avg       0.65      0.42      0.47        55\n",
      "\n"
     ]
    }
   ],
   "source": [
    "y_pred = classifier2.predict(mixed.iloc[:,:6])\n",
    "y_test_mixed = mixed.iloc[:,6:]\n",
    "print(confusion_matrix(y_test_mixed,y_pred))  \n",
    "print(classification_report(y_test_mixed,y_pred))  "
   ]
  },
  {
   "cell_type": "code",
   "execution_count": 44,
   "metadata": {},
   "outputs": [
    {
     "data": {
      "text/plain": [
       "(300, 1)"
      ]
     },
     "execution_count": 44,
     "metadata": {},
     "output_type": "execute_result"
    }
   ],
   "source": [
    "y_test.shape"
   ]
  },
  {
   "cell_type": "markdown",
   "metadata": {},
   "source": [
    "### deep learning"
   ]
  },
  {
   "cell_type": "code",
   "execution_count": 58,
   "metadata": {
    "scrolled": true
   },
   "outputs": [
    {
     "name": "stdout",
     "output_type": "stream",
     "text": [
      "Train on 1199 samples, validate on 300 samples\n",
      "Epoch 1/50\n",
      "1199/1199 [==============================] - 1s 485us/step - loss: 1.3152 - acc: 0.9174 - val_loss: 1.1705 - val_acc: 0.9267\n",
      "Epoch 2/50\n",
      "1199/1199 [==============================] - 0s 161us/step - loss: 1.1036 - acc: 0.9308 - val_loss: 1.1691 - val_acc: 0.9267\n",
      "Epoch 3/50\n",
      "1199/1199 [==============================] - 0s 166us/step - loss: 1.0903 - acc: 0.9316 - val_loss: 1.1691 - val_acc: 0.9267\n",
      "Epoch 4/50\n",
      "1199/1199 [==============================] - 0s 154us/step - loss: 1.0903 - acc: 0.9316 - val_loss: 1.1691 - val_acc: 0.9267\n",
      "Epoch 5/50\n",
      "1199/1199 [==============================] - 0s 156us/step - loss: 1.0903 - acc: 0.9316 - val_loss: 1.1691 - val_acc: 0.9267\n",
      "Epoch 6/50\n",
      "1199/1199 [==============================] - 0s 155us/step - loss: 1.0903 - acc: 0.9316 - val_loss: 1.1691 - val_acc: 0.9267\n",
      "Epoch 7/50\n",
      "1199/1199 [==============================] - 0s 175us/step - loss: 1.0903 - acc: 0.9316 - val_loss: 1.1691 - val_acc: 0.9267\n",
      "Epoch 8/50\n",
      "1199/1199 [==============================] - 0s 182us/step - loss: 1.0903 - acc: 0.9316 - val_loss: 1.1691 - val_acc: 0.9267\n",
      "Epoch 9/50\n",
      "1199/1199 [==============================] - 0s 152us/step - loss: 1.0903 - acc: 0.9316 - val_loss: 1.1691 - val_acc: 0.9267\n",
      "Epoch 10/50\n",
      "1199/1199 [==============================] - 0s 164us/step - loss: 1.0903 - acc: 0.9316 - val_loss: 1.1691 - val_acc: 0.9267\n",
      "Epoch 11/50\n",
      "1199/1199 [==============================] - 0s 158us/step - loss: 1.0903 - acc: 0.9316 - val_loss: 1.1691 - val_acc: 0.9267\n",
      "Epoch 12/50\n",
      "1199/1199 [==============================] - 0s 169us/step - loss: 1.0903 - acc: 0.9316 - val_loss: 1.1691 - val_acc: 0.9267\n",
      "Epoch 13/50\n",
      "1199/1199 [==============================] - 0s 161us/step - loss: 1.0903 - acc: 0.9316 - val_loss: 1.1691 - val_acc: 0.9267\n",
      "Epoch 14/50\n",
      "1199/1199 [==============================] - 0s 163us/step - loss: 1.0903 - acc: 0.9316 - val_loss: 1.1691 - val_acc: 0.9267\n",
      "Epoch 15/50\n",
      "1199/1199 [==============================] - 0s 172us/step - loss: 1.0903 - acc: 0.9316 - val_loss: 1.1691 - val_acc: 0.9267\n",
      "Epoch 16/50\n",
      "1199/1199 [==============================] - 0s 163us/step - loss: 1.0903 - acc: 0.9316 - val_loss: 1.1691 - val_acc: 0.9267\n",
      "Epoch 17/50\n",
      "1199/1199 [==============================] - 0s 171us/step - loss: 1.0903 - acc: 0.9316 - val_loss: 1.1691 - val_acc: 0.9267\n",
      "Epoch 18/50\n",
      "1199/1199 [==============================] - 0s 166us/step - loss: 1.0903 - acc: 0.9316 - val_loss: 1.1691 - val_acc: 0.9267\n",
      "Epoch 19/50\n",
      "1199/1199 [==============================] - 0s 184us/step - loss: 1.0903 - acc: 0.9316 - val_loss: 1.1691 - val_acc: 0.9267\n",
      "Epoch 20/50\n",
      "1199/1199 [==============================] - 0s 165us/step - loss: 1.0903 - acc: 0.9316 - val_loss: 1.1691 - val_acc: 0.9267\n",
      "Epoch 21/50\n",
      "1199/1199 [==============================] - 0s 184us/step - loss: 1.0903 - acc: 0.9316 - val_loss: 1.1691 - val_acc: 0.9267\n",
      "Epoch 22/50\n",
      "1199/1199 [==============================] - 0s 179us/step - loss: 1.0903 - acc: 0.9316 - val_loss: 1.1691 - val_acc: 0.9267\n",
      "Epoch 23/50\n",
      "1199/1199 [==============================] - 0s 154us/step - loss: 1.0903 - acc: 0.9316 - val_loss: 1.1691 - val_acc: 0.9267\n",
      "Epoch 24/50\n",
      "1199/1199 [==============================] - 0s 175us/step - loss: 1.0903 - acc: 0.9316 - val_loss: 1.1691 - val_acc: 0.9267\n",
      "Epoch 25/50\n",
      "1199/1199 [==============================] - 0s 160us/step - loss: 1.0903 - acc: 0.9316 - val_loss: 1.1691 - val_acc: 0.9267\n",
      "Epoch 26/50\n",
      "1199/1199 [==============================] - 0s 229us/step - loss: 1.0903 - acc: 0.9316 - val_loss: 1.1691 - val_acc: 0.9267\n",
      "Epoch 27/50\n",
      "1199/1199 [==============================] - 0s 174us/step - loss: 1.0903 - acc: 0.9316 - val_loss: 1.1691 - val_acc: 0.9267\n",
      "Epoch 28/50\n",
      "1199/1199 [==============================] - 0s 170us/step - loss: 1.0903 - acc: 0.9316 - val_loss: 1.1691 - val_acc: 0.9267\n",
      "Epoch 29/50\n",
      "1199/1199 [==============================] - 0s 172us/step - loss: 1.0903 - acc: 0.9316 - val_loss: 1.1691 - val_acc: 0.9267\n",
      "Epoch 30/50\n",
      "1199/1199 [==============================] - 0s 211us/step - loss: 1.0903 - acc: 0.9316 - val_loss: 1.1691 - val_acc: 0.9267\n",
      "Epoch 31/50\n",
      "1199/1199 [==============================] - 0s 161us/step - loss: 1.0903 - acc: 0.9316 - val_loss: 1.1691 - val_acc: 0.9267\n",
      "Epoch 32/50\n",
      "1199/1199 [==============================] - 0s 184us/step - loss: 1.0903 - acc: 0.9316 - val_loss: 1.1691 - val_acc: 0.9267\n",
      "Epoch 33/50\n",
      "1199/1199 [==============================] - 0s 177us/step - loss: 1.0903 - acc: 0.9316 - val_loss: 1.1691 - val_acc: 0.9267\n",
      "Epoch 34/50\n",
      "1199/1199 [==============================] - 0s 163us/step - loss: 1.0903 - acc: 0.9316 - val_loss: 1.1691 - val_acc: 0.9267\n",
      "Epoch 35/50\n",
      "1199/1199 [==============================] - 0s 182us/step - loss: 1.0903 - acc: 0.9316 - val_loss: 1.1691 - val_acc: 0.9267\n",
      "Epoch 36/50\n",
      "1199/1199 [==============================] - 0s 214us/step - loss: 1.0903 - acc: 0.9316 - val_loss: 1.1691 - val_acc: 0.9267\n",
      "Epoch 37/50\n",
      "1199/1199 [==============================] - 0s 176us/step - loss: 1.0903 - acc: 0.9316 - val_loss: 1.1691 - val_acc: 0.9267\n",
      "Epoch 38/50\n",
      "1199/1199 [==============================] - 0s 228us/step - loss: 1.0903 - acc: 0.9316 - val_loss: 1.1691 - val_acc: 0.9267\n",
      "Epoch 39/50\n",
      "1199/1199 [==============================] - 0s 174us/step - loss: 1.0903 - acc: 0.9316 - val_loss: 1.1691 - val_acc: 0.9267\n",
      "Epoch 40/50\n",
      "1199/1199 [==============================] - 0s 173us/step - loss: 1.0903 - acc: 0.9316 - val_loss: 1.1691 - val_acc: 0.9267\n",
      "Epoch 41/50\n",
      "1199/1199 [==============================] - 0s 175us/step - loss: 1.0903 - acc: 0.9316 - val_loss: 1.1691 - val_acc: 0.9267\n",
      "Epoch 42/50\n",
      "1199/1199 [==============================] - 0s 175us/step - loss: 1.0903 - acc: 0.9316 - val_loss: 1.1691 - val_acc: 0.9267\n",
      "Epoch 43/50\n",
      "1199/1199 [==============================] - 0s 162us/step - loss: 1.0903 - acc: 0.9316 - val_loss: 1.1691 - val_acc: 0.9267\n",
      "Epoch 44/50\n",
      "1199/1199 [==============================] - 0s 181us/step - loss: 1.0903 - acc: 0.9316 - val_loss: 1.1691 - val_acc: 0.9267\n",
      "Epoch 45/50\n",
      "1199/1199 [==============================] - 0s 169us/step - loss: 1.0903 - acc: 0.9316 - val_loss: 1.1691 - val_acc: 0.9267\n",
      "Epoch 46/50\n",
      "1199/1199 [==============================] - 0s 155us/step - loss: 1.0903 - acc: 0.9316 - val_loss: 1.1691 - val_acc: 0.9267\n",
      "Epoch 47/50\n",
      "1199/1199 [==============================] - 0s 195us/step - loss: 1.0903 - acc: 0.9316 - val_loss: 1.1691 - val_acc: 0.9267\n",
      "Epoch 48/50\n",
      "1199/1199 [==============================] - 0s 165us/step - loss: 1.0903 - acc: 0.9316 - val_loss: 1.1691 - val_acc: 0.9267\n",
      "Epoch 49/50\n",
      "1199/1199 [==============================] - 0s 167us/step - loss: 1.0903 - acc: 0.9316 - val_loss: 1.1691 - val_acc: 0.9267\n",
      "Epoch 50/50\n",
      "1199/1199 [==============================] - 0s 183us/step - loss: 1.0903 - acc: 0.9316 - val_loss: 1.1691 - val_acc: 0.9267\n",
      "300/300 [==============================] - 0s 65us/step\n"
     ]
    }
   ],
   "source": [
    "model = Sequential()\n",
    "model.add(Dense(60, input_dim=6, activation='relu'))\n",
    "model.add(Dense(1, activation='sigmoid'))\n",
    "# Compile model\n",
    "model.compile(loss='binary_crossentropy', optimizer='rmsprop', metrics=['accuracy'])\n",
    "history = model.fit(X_train, y_train,validation_data=(X_test,y_test), batch_size = 10, epochs = 50)\n",
    "scores = model.evaluate(X_test,y_test,batch_size = 10)\n",
    "#print(confusion_matrix(y_test,y_pred))  \n",
    "#print(classification_report(y_test,y_pred))  "
   ]
  },
  {
   "cell_type": "code",
   "execution_count": 59,
   "metadata": {},
   "outputs": [
    {
     "data": {
      "text/plain": [
       "[1.1691122824239715, 0.9266666571299235]"
      ]
     },
     "execution_count": 59,
     "metadata": {},
     "output_type": "execute_result"
    }
   ],
   "source": [
    "scores"
   ]
  },
  {
   "cell_type": "code",
   "execution_count": 60,
   "metadata": {},
   "outputs": [
    {
     "data": {
      "image/png": "[encoded data removed]",
      "text/plain": [
       "<Figure size 432x288 with 1 Axes>"
      ]
     },
     "metadata": {
      "needs_background": "light"
     },
     "output_type": "display_data"
    }
   ],
   "source": [
    "plt.plot(history.history['loss'])\n",
    "plt.plot(history.history['val_loss'])\n",
    "plt.title('model loss')\n",
    "plt.ylabel('loss')\n",
    "plt.xlabel('epoch')\n",
    "plt.legend(['train', 'test'], loc='upper left')\n",
    "plt.show()"
   ]
  },
  {
   "cell_type": "code",
   "execution_count": null,
   "metadata": {},
   "outputs": [],
   "source": []
  },
  {
   "cell_type": "code",
   "execution_count": null,
   "metadata": {},
   "outputs": [],
   "source": []
  }
 ],
 "metadata": {
  "kernelspec": {
   "display_name": "Python 2",
   "language": "python",
   "name": "python2"
  },
  "language_info": {
   "codemirror_mode": {
    "name": "ipython",
    "version": 2
   },
   "file_extension": ".py",
   "mimetype": "text/x-python",
   "name": "python",
   "nbconvert_exporter": "python",
   "pygments_lexer": "ipython2",
   "version": "2.7.15"
  }
 },
 "nbformat": 4,
 "nbformat_minor": 2
}
