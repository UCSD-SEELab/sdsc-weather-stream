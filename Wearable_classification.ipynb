{
 "cells": [
  {
   "cell_type": "code",
   "execution_count": 1,
   "metadata": {},
   "outputs": [
    {
     "name": "stderr",
     "output_type": "stream",
     "text": [
      "Using TensorFlow backend.\n"
     ]
    }
   ],
   "source": [
    "import pandas as pd\n",
    "import numpy as np\n",
    "import sklearn\n",
    "from sklearn import svm\n",
    "from sklearn.utils import shuffle\n",
    "from sklearn.model_selection import train_test_split, cross_val_score\n",
    "from sklearn.metrics import mean_squared_error\n",
    "import matplotlib.pyplot as plt\n",
    "from sklearn.metrics import classification_report, confusion_matrix \n",
    "from keras.layers import Dense, Activation\n",
    "from keras.models import Sequential\n",
    "import keras"
   ]
  },
  {
   "cell_type": "code",
   "execution_count": 2,
   "metadata": {},
   "outputs": [],
   "source": [
    "Out = pd.read_excel('Data_Folder/4_12_outsided_wearable.xlsx',header=0,index_col=0)\n",
    "In = pd.read_excel('Data_Folder/Demo4_20/4_20_wearable_inside.xlsx',header=0,index_col=0)"
   ]
  },
  {
   "cell_type": "code",
   "execution_count": 3,
   "metadata": {},
   "outputs": [],
   "source": [
    "In = In.resample('1T',on='#VALUE!').mean()\n",
    "Out = Out.fillna(method='ffill')\n",
    "In = In.fillna(method='ffill')\n",
    "Out = Out.resample('1T',on='time').mean()\n",
    "Out.drop(columns=['Time(s)'], inplace=True)\n",
    "In.drop(columns=['Time(s)'], inplace=True)\n",
    "Out.index = range(Out.shape[0])\n",
    "In.index = range(In.shape[0])\n",
    "In = In.iloc[:500,:]"
   ]
  },
  {
   "cell_type": "code",
   "execution_count": 4,
   "metadata": {},
   "outputs": [],
   "source": [
    "In_label = np.ones((In.shape[0],), dtype=int)\n",
    "Out_label = np.zeros((Out.shape[0],), dtype=int)\n",
    "In['label'] = In_label\n",
    "Out['label'] = Out_label"
   ]
  },
  {
   "cell_type": "code",
   "execution_count": 5,
   "metadata": {},
   "outputs": [],
   "source": [
    "DF = pd.concat([In,Out],axis=0)\n",
    "DF = shuffle(DF)"
   ]
  },
  {
   "cell_type": "markdown",
   "metadata": {},
   "source": [
    "### SVC, NuSVC, LinearSVC"
   ]
  },
  {
   "cell_type": "code",
   "execution_count": 6,
   "metadata": {},
   "outputs": [
    {
     "name": "stderr",
     "output_type": "stream",
     "text": [
      "/Library/Frameworks/Python.framework/Versions/2.7/lib/python2.7/site-packages/sklearn/utils/validation.py:752: DataConversionWarning: A column-vector y was passed when a 1d array was expected. Please change the shape of y to (n_samples, ), for example using ravel().\n",
      "  y = column_or_1d(y, warn=True)\n"
     ]
    },
    {
     "data": {
      "text/plain": [
       "SVC(C=1.0, cache_size=200, class_weight=None, coef0=0.0,\n",
       "  decision_function_shape='ovr', degree=3, gamma='auto_deprecated',\n",
       "  kernel='linear', max_iter=-1, probability=False, random_state=None,\n",
       "  shrinking=True, tol=0.001, verbose=False)"
      ]
     },
     "execution_count": 6,
     "metadata": {},
     "output_type": "execute_result"
    }
   ],
   "source": [
    "X_train, X_test, y_train, y_test = train_test_split(DF.iloc[:,:6], DF.iloc[:,6:], test_size = 0.2, random_state = 0)\n",
    "classifier = svm.SVC(kernel='linear')\n",
    "classifier.fit(X_train,y_train)"
   ]
  },
  {
   "cell_type": "code",
   "execution_count": 7,
   "metadata": {},
   "outputs": [
    {
     "name": "stdout",
     "output_type": "stream",
     "text": [
      "[[191   0]\n",
      " [  0 109]]\n",
      "              precision    recall  f1-score   support\n",
      "\n",
      "           0       1.00      1.00      1.00       191\n",
      "           1       1.00      1.00      1.00       109\n",
      "\n",
      "   micro avg       1.00      1.00      1.00       300\n",
      "   macro avg       1.00      1.00      1.00       300\n",
      "weighted avg       1.00      1.00      1.00       300\n",
      "\n"
     ]
    }
   ],
   "source": [
    "y_pred = classifier.predict(X_test)\n",
    "\n",
    "print(confusion_matrix(y_test,y_pred))  \n",
    "print(classification_report(y_test,y_pred))  \n"
   ]
  },
  {
   "cell_type": "code",
   "execution_count": 8,
   "metadata": {},
   "outputs": [
    {
     "name": "stdout",
     "output_type": "stream",
     "text": [
      "[[191   0]\n",
      " [  0 109]]\n",
      "              precision    recall  f1-score   support\n",
      "\n",
      "           0       1.00      1.00      1.00       191\n",
      "           1       1.00      1.00      1.00       109\n",
      "\n",
      "   micro avg       1.00      1.00      1.00       300\n",
      "   macro avg       1.00      1.00      1.00       300\n",
      "weighted avg       1.00      1.00      1.00       300\n",
      "\n"
     ]
    },
    {
     "name": "stderr",
     "output_type": "stream",
     "text": [
      "/Library/Frameworks/Python.framework/Versions/2.7/lib/python2.7/site-packages/sklearn/svm/base.py:196: FutureWarning: The default value of gamma will change from 'auto' to 'scale' in version 0.22 to account better for unscaled features. Set gamma explicitly to 'auto' or 'scale' to avoid this warning.\n",
      "  \"avoid this warning.\", FutureWarning)\n"
     ]
    }
   ],
   "source": [
    "classifier2 = svm.SVC(kernel='poly',degree=2)\n",
    "classifier2.fit(X_train,y_train)\n",
    "y_pred = classifier2.predict(X_test)\n",
    "\n",
    "print(confusion_matrix(y_test,y_pred))  \n",
    "print(classification_report(y_test,y_pred))  "
   ]
  },
  {
   "cell_type": "code",
   "execution_count": 9,
   "metadata": {},
   "outputs": [],
   "source": [
    "\"\"\"the result is not good as the previous two\"\"\"\n",
    "classifier3 = svm.SVC(kernel='rbf')\n",
    "classifier3.fit(X_train,y_train)\n",
    "y_pred = classifier3.predict(X_test)\n",
    "\n",
    "#print(confusion_matrix(y_test,y_pred))  \n",
    "#print(classification_report(y_test,y_pred))  "
   ]
  },
  {
   "cell_type": "code",
   "execution_count": 10,
   "metadata": {},
   "outputs": [],
   "source": [
    "'''the result is not good as the previous two'''\n",
    "classifier4 = svm.SVC(kernel='sigmoid')\n",
    "classifier4.fit(X_train,y_train)\n",
    "y_pred = classifier4.predict(X_test)\n",
    "\n",
    "#print(confusion_matrix(y_test,y_pred))  \n",
    "#print(classification_report(y_test,y_pred))"
   ]
  },
  {
   "cell_type": "code",
   "execution_count": 11,
   "metadata": {},
   "outputs": [],
   "source": [
    "mixed = pd.read_csv('Data_Folder/Demo3_5/Wearable_label.csv')\n",
    "mixed.dropna(inplace=True)\n",
    "mixed = shuffle(mixed)\n",
    "mixed.drop(columns=['time'],inplace=True)"
   ]
  },
  {
   "cell_type": "code",
   "execution_count": 12,
   "metadata": {},
   "outputs": [
    {
     "name": "stdout",
     "output_type": "stream",
     "text": [
      "[[ 6  5]\n",
      " [15 29]]\n",
      "              precision    recall  f1-score   support\n",
      "\n",
      "         0.0       0.29      0.55      0.37        11\n",
      "         1.0       0.85      0.66      0.74        44\n",
      "\n",
      "   micro avg       0.64      0.64      0.64        55\n",
      "   macro avg       0.57      0.60      0.56        55\n",
      "weighted avg       0.74      0.64      0.67        55\n",
      "\n"
     ]
    }
   ],
   "source": [
    "y_pred = classifier.predict(mixed.iloc[:,:6])\n",
    "y_test_mixed = mixed.iloc[:,6:]\n",
    "print(confusion_matrix(y_test_mixed,y_pred))  \n",
    "print(classification_report(y_test_mixed,y_pred))  "
   ]
  },
  {
   "cell_type": "code",
   "execution_count": 13,
   "metadata": {},
   "outputs": [
    {
     "name": "stdout",
     "output_type": "stream",
     "text": [
      "[[ 6  5]\n",
      " [27 17]]\n",
      "              precision    recall  f1-score   support\n",
      "\n",
      "         0.0       0.18      0.55      0.27        11\n",
      "         1.0       0.77      0.39      0.52        44\n",
      "\n",
      "   micro avg       0.42      0.42      0.42        55\n",
      "   macro avg       0.48      0.47      0.39        55\n",
      "weighted avg       0.65      0.42      0.47        55\n",
      "\n"
     ]
    }
   ],
   "source": [
    "y_pred = classifier2.predict(mixed.iloc[:,:6])\n",
    "y_test_mixed = mixed.iloc[:,6:]\n",
    "print(confusion_matrix(y_test_mixed,y_pred))  \n",
    "print(classification_report(y_test_mixed,y_pred))  "
   ]
  },
  {
   "cell_type": "code",
   "execution_count": 25,
   "metadata": {},
   "outputs": [
    {
     "data": {
      "text/plain": [
       "array([0, 0, 0, 0, 0, 0, 1, 0, 0, 0, 1, 1, 1, 0, 0, 0, 0, 1, 0, 0, 0, 0,\n",
       "       1, 1, 1, 0, 0, 1, 1, 0, 1, 0, 0, 1, 1, 1, 0, 0, 1, 1, 1, 0, 1, 0,\n",
       "       1, 1, 0, 0, 1, 0, 0, 0, 0, 0, 1])"
      ]
     },
     "execution_count": 25,
     "metadata": {},
     "output_type": "execute_result"
    }
   ],
   "source": [
    "y_pred"
   ]
  },
  {
   "cell_type": "code",
   "execution_count": 26,
   "metadata": {},
   "outputs": [
    {
     "data": {
      "text/html": [
       "<div>\n",
       "<style scoped>\n",
       "    .dataframe tbody tr th:only-of-type {\n",
       "        vertical-align: middle;\n",
       "    }\n",
       "\n",
       "    .dataframe tbody tr th {\n",
       "        vertical-align: top;\n",
       "    }\n",
       "\n",
       "    .dataframe thead th {\n",
       "        text-align: right;\n",
       "    }\n",
       "</style>\n",
       "<table border=\"1\" class=\"dataframe\">\n",
       "  <thead>\n",
       "    <tr style=\"text-align: right;\">\n",
       "      <th></th>\n",
       "      <th>label</th>\n",
       "    </tr>\n",
       "  </thead>\n",
       "  <tbody>\n",
       "    <tr>\n",
       "      <th>987</th>\n",
       "      <td>0</td>\n",
       "    </tr>\n",
       "    <tr>\n",
       "      <th>903</th>\n",
       "      <td>0</td>\n",
       "    </tr>\n",
       "    <tr>\n",
       "      <th>469</th>\n",
       "      <td>0</td>\n",
       "    </tr>\n",
       "    <tr>\n",
       "      <th>649</th>\n",
       "      <td>0</td>\n",
       "    </tr>\n",
       "    <tr>\n",
       "      <th>932</th>\n",
       "      <td>0</td>\n",
       "    </tr>\n",
       "    <tr>\n",
       "      <th>449</th>\n",
       "      <td>1</td>\n",
       "    </tr>\n",
       "    <tr>\n",
       "      <th>569</th>\n",
       "      <td>0</td>\n",
       "    </tr>\n",
       "    <tr>\n",
       "      <th>785</th>\n",
       "      <td>0</td>\n",
       "    </tr>\n",
       "    <tr>\n",
       "      <th>374</th>\n",
       "      <td>0</td>\n",
       "    </tr>\n",
       "    <tr>\n",
       "      <th>245</th>\n",
       "      <td>1</td>\n",
       "    </tr>\n",
       "    <tr>\n",
       "      <th>488</th>\n",
       "      <td>1</td>\n",
       "    </tr>\n",
       "    <tr>\n",
       "      <th>934</th>\n",
       "      <td>0</td>\n",
       "    </tr>\n",
       "    <tr>\n",
       "      <th>745</th>\n",
       "      <td>0</td>\n",
       "    </tr>\n",
       "    <tr>\n",
       "      <th>376</th>\n",
       "      <td>1</td>\n",
       "    </tr>\n",
       "    <tr>\n",
       "      <th>471</th>\n",
       "      <td>1</td>\n",
       "    </tr>\n",
       "    <tr>\n",
       "      <th>315</th>\n",
       "      <td>1</td>\n",
       "    </tr>\n",
       "    <tr>\n",
       "      <th>196</th>\n",
       "      <td>0</td>\n",
       "    </tr>\n",
       "    <tr>\n",
       "      <th>219</th>\n",
       "      <td>1</td>\n",
       "    </tr>\n",
       "    <tr>\n",
       "      <th>166</th>\n",
       "      <td>1</td>\n",
       "    </tr>\n",
       "    <tr>\n",
       "      <th>90</th>\n",
       "      <td>1</td>\n",
       "    </tr>\n",
       "    <tr>\n",
       "      <th>156</th>\n",
       "      <td>1</td>\n",
       "    </tr>\n",
       "    <tr>\n",
       "      <th>822</th>\n",
       "      <td>0</td>\n",
       "    </tr>\n",
       "    <tr>\n",
       "      <th>563</th>\n",
       "      <td>0</td>\n",
       "    </tr>\n",
       "    <tr>\n",
       "      <th>31</th>\n",
       "      <td>0</td>\n",
       "    </tr>\n",
       "    <tr>\n",
       "      <th>440</th>\n",
       "      <td>0</td>\n",
       "    </tr>\n",
       "    <tr>\n",
       "      <th>604</th>\n",
       "      <td>0</td>\n",
       "    </tr>\n",
       "    <tr>\n",
       "      <th>177</th>\n",
       "      <td>1</td>\n",
       "    </tr>\n",
       "    <tr>\n",
       "      <th>431</th>\n",
       "      <td>0</td>\n",
       "    </tr>\n",
       "    <tr>\n",
       "      <th>794</th>\n",
       "      <td>0</td>\n",
       "    </tr>\n",
       "    <tr>\n",
       "      <th>547</th>\n",
       "      <td>0</td>\n",
       "    </tr>\n",
       "    <tr>\n",
       "      <th>...</th>\n",
       "      <td>...</td>\n",
       "    </tr>\n",
       "    <tr>\n",
       "      <th>123</th>\n",
       "      <td>0</td>\n",
       "    </tr>\n",
       "    <tr>\n",
       "      <th>801</th>\n",
       "      <td>0</td>\n",
       "    </tr>\n",
       "    <tr>\n",
       "      <th>113</th>\n",
       "      <td>1</td>\n",
       "    </tr>\n",
       "    <tr>\n",
       "      <th>43</th>\n",
       "      <td>0</td>\n",
       "    </tr>\n",
       "    <tr>\n",
       "      <th>404</th>\n",
       "      <td>1</td>\n",
       "    </tr>\n",
       "    <tr>\n",
       "      <th>97</th>\n",
       "      <td>1</td>\n",
       "    </tr>\n",
       "    <tr>\n",
       "      <th>188</th>\n",
       "      <td>0</td>\n",
       "    </tr>\n",
       "    <tr>\n",
       "      <th>531</th>\n",
       "      <td>0</td>\n",
       "    </tr>\n",
       "    <tr>\n",
       "      <th>389</th>\n",
       "      <td>1</td>\n",
       "    </tr>\n",
       "    <tr>\n",
       "      <th>504</th>\n",
       "      <td>0</td>\n",
       "    </tr>\n",
       "    <tr>\n",
       "      <th>227</th>\n",
       "      <td>1</td>\n",
       "    </tr>\n",
       "    <tr>\n",
       "      <th>169</th>\n",
       "      <td>1</td>\n",
       "    </tr>\n",
       "    <tr>\n",
       "      <th>117</th>\n",
       "      <td>0</td>\n",
       "    </tr>\n",
       "    <tr>\n",
       "      <th>270</th>\n",
       "      <td>0</td>\n",
       "    </tr>\n",
       "    <tr>\n",
       "      <th>774</th>\n",
       "      <td>0</td>\n",
       "    </tr>\n",
       "    <tr>\n",
       "      <th>383</th>\n",
       "      <td>0</td>\n",
       "    </tr>\n",
       "    <tr>\n",
       "      <th>771</th>\n",
       "      <td>0</td>\n",
       "    </tr>\n",
       "    <tr>\n",
       "      <th>430</th>\n",
       "      <td>1</td>\n",
       "    </tr>\n",
       "    <tr>\n",
       "      <th>161</th>\n",
       "      <td>1</td>\n",
       "    </tr>\n",
       "    <tr>\n",
       "      <th>237</th>\n",
       "      <td>1</td>\n",
       "    </tr>\n",
       "    <tr>\n",
       "      <th>435</th>\n",
       "      <td>1</td>\n",
       "    </tr>\n",
       "    <tr>\n",
       "      <th>768</th>\n",
       "      <td>0</td>\n",
       "    </tr>\n",
       "    <tr>\n",
       "      <th>968</th>\n",
       "      <td>0</td>\n",
       "    </tr>\n",
       "    <tr>\n",
       "      <th>159</th>\n",
       "      <td>0</td>\n",
       "    </tr>\n",
       "    <tr>\n",
       "      <th>833</th>\n",
       "      <td>0</td>\n",
       "    </tr>\n",
       "    <tr>\n",
       "      <th>434</th>\n",
       "      <td>0</td>\n",
       "    </tr>\n",
       "    <tr>\n",
       "      <th>55</th>\n",
       "      <td>0</td>\n",
       "    </tr>\n",
       "    <tr>\n",
       "      <th>433</th>\n",
       "      <td>0</td>\n",
       "    </tr>\n",
       "    <tr>\n",
       "      <th>61</th>\n",
       "      <td>0</td>\n",
       "    </tr>\n",
       "    <tr>\n",
       "      <th>589</th>\n",
       "      <td>0</td>\n",
       "    </tr>\n",
       "  </tbody>\n",
       "</table>\n",
       "<p>300 rows × 1 columns</p>\n",
       "</div>"
      ],
      "text/plain": [
       "     label\n",
       "987      0\n",
       "903      0\n",
       "469      0\n",
       "649      0\n",
       "932      0\n",
       "449      1\n",
       "569      0\n",
       "785      0\n",
       "374      0\n",
       "245      1\n",
       "488      1\n",
       "934      0\n",
       "745      0\n",
       "376      1\n",
       "471      1\n",
       "315      1\n",
       "196      0\n",
       "219      1\n",
       "166      1\n",
       "90       1\n",
       "156      1\n",
       "822      0\n",
       "563      0\n",
       "31       0\n",
       "440      0\n",
       "604      0\n",
       "177      1\n",
       "431      0\n",
       "794      0\n",
       "547      0\n",
       "..     ...\n",
       "123      0\n",
       "801      0\n",
       "113      1\n",
       "43       0\n",
       "404      1\n",
       "97       1\n",
       "188      0\n",
       "531      0\n",
       "389      1\n",
       "504      0\n",
       "227      1\n",
       "169      1\n",
       "117      0\n",
       "270      0\n",
       "774      0\n",
       "383      0\n",
       "771      0\n",
       "430      1\n",
       "161      1\n",
       "237      1\n",
       "435      1\n",
       "768      0\n",
       "968      0\n",
       "159      0\n",
       "833      0\n",
       "434      0\n",
       "55       0\n",
       "433      0\n",
       "61       0\n",
       "589      0\n",
       "\n",
       "[300 rows x 1 columns]"
      ]
     },
     "execution_count": 26,
     "metadata": {},
     "output_type": "execute_result"
    }
   ],
   "source": [
    "y_test"
   ]
  },
  {
   "cell_type": "markdown",
   "metadata": {},
   "source": [
    "### deep learning"
   ]
  },
  {
   "cell_type": "code",
   "execution_count": 20,
   "metadata": {
    "scrolled": true
   },
   "outputs": [
    {
     "name": "stdout",
     "output_type": "stream",
     "text": [
      "Train on 1199 samples, validate on 300 samples\n",
      "Epoch 1/50\n",
      "1199/1199 [==============================] - 0s 344us/step - loss: 1.7115 - acc: 0.8916 - val_loss: 0.5755 - val_acc: 0.9633\n",
      "Epoch 2/50\n",
      "1199/1199 [==============================] - 0s 145us/step - loss: 0.6327 - acc: 0.9550 - val_loss: 0.4252 - val_acc: 0.9733\n",
      "Epoch 3/50\n",
      "1199/1199 [==============================] - 0s 143us/step - loss: 0.9778 - acc: 0.9366 - val_loss: 0.4251 - val_acc: 0.9733\n",
      "Epoch 4/50\n",
      "1199/1199 [==============================] - 0s 155us/step - loss: 1.1304 - acc: 0.9291 - val_loss: 1.2754 - val_acc: 0.9200\n",
      "Epoch 5/50\n",
      "1199/1199 [==============================] - 0s 154us/step - loss: 1.7019 - acc: 0.8932 - val_loss: 1.2754 - val_acc: 0.9200\n",
      "Epoch 6/50\n",
      "1199/1199 [==============================] - 0s 151us/step - loss: 1.7019 - acc: 0.8932 - val_loss: 1.2754 - val_acc: 0.9200\n",
      "Epoch 7/50\n",
      "1199/1199 [==============================] - 0s 152us/step - loss: 1.7019 - acc: 0.8932 - val_loss: 1.2754 - val_acc: 0.9200\n",
      "Epoch 8/50\n",
      "1199/1199 [==============================] - 0s 147us/step - loss: 1.7019 - acc: 0.8932 - val_loss: 1.2754 - val_acc: 0.9200\n",
      "Epoch 9/50\n",
      "1199/1199 [==============================] - 0s 148us/step - loss: 1.7019 - acc: 0.8932 - val_loss: 1.2754 - val_acc: 0.9200\n",
      "Epoch 10/50\n",
      "1199/1199 [==============================] - 0s 147us/step - loss: 1.7019 - acc: 0.8932 - val_loss: 1.2754 - val_acc: 0.9200\n",
      "Epoch 11/50\n",
      "1199/1199 [==============================] - 0s 149us/step - loss: 1.7019 - acc: 0.8932 - val_loss: 1.2754 - val_acc: 0.9200\n",
      "Epoch 12/50\n",
      "1199/1199 [==============================] - 0s 150us/step - loss: 1.7019 - acc: 0.8932 - val_loss: 1.2754 - val_acc: 0.9200\n",
      "Epoch 13/50\n",
      "1199/1199 [==============================] - 0s 148us/step - loss: 1.7019 - acc: 0.8932 - val_loss: 1.2754 - val_acc: 0.9200\n",
      "Epoch 14/50\n",
      "1199/1199 [==============================] - 0s 148us/step - loss: 1.7019 - acc: 0.8932 - val_loss: 1.2754 - val_acc: 0.9200\n",
      "Epoch 15/50\n",
      "1199/1199 [==============================] - 0s 147us/step - loss: 1.7019 - acc: 0.8932 - val_loss: 1.2754 - val_acc: 0.9200\n",
      "Epoch 16/50\n",
      "1199/1199 [==============================] - 0s 146us/step - loss: 1.7019 - acc: 0.8932 - val_loss: 1.2754 - val_acc: 0.9200\n",
      "Epoch 17/50\n",
      "1199/1199 [==============================] - 0s 146us/step - loss: 1.7019 - acc: 0.8932 - val_loss: 1.2754 - val_acc: 0.9200\n",
      "Epoch 18/50\n",
      "1199/1199 [==============================] - 0s 148us/step - loss: 1.7019 - acc: 0.8932 - val_loss: 1.2754 - val_acc: 0.9200\n",
      "Epoch 19/50\n",
      "1199/1199 [==============================] - 0s 149us/step - loss: 1.7019 - acc: 0.8932 - val_loss: 1.2754 - val_acc: 0.9200\n",
      "Epoch 20/50\n",
      "1199/1199 [==============================] - 0s 143us/step - loss: 1.7019 - acc: 0.8932 - val_loss: 1.2754 - val_acc: 0.9200\n",
      "Epoch 21/50\n",
      "1199/1199 [==============================] - 0s 146us/step - loss: 1.7019 - acc: 0.8932 - val_loss: 1.2754 - val_acc: 0.9200\n",
      "Epoch 22/50\n",
      "1199/1199 [==============================] - 0s 154us/step - loss: 1.7019 - acc: 0.8932 - val_loss: 1.2754 - val_acc: 0.9200\n",
      "Epoch 23/50\n",
      "1199/1199 [==============================] - 0s 148us/step - loss: 1.7019 - acc: 0.8932 - val_loss: 1.2754 - val_acc: 0.9200\n",
      "Epoch 24/50\n",
      "1199/1199 [==============================] - 0s 154us/step - loss: 1.7019 - acc: 0.8932 - val_loss: 1.2754 - val_acc: 0.9200\n",
      "Epoch 25/50\n",
      "1199/1199 [==============================] - 0s 181us/step - loss: 1.7019 - acc: 0.8932 - val_loss: 1.2754 - val_acc: 0.9200\n",
      "Epoch 26/50\n",
      "1199/1199 [==============================] - 0s 162us/step - loss: 1.7019 - acc: 0.8932 - val_loss: 1.2754 - val_acc: 0.9200\n",
      "Epoch 27/50\n",
      "1199/1199 [==============================] - 0s 172us/step - loss: 1.7019 - acc: 0.8932 - val_loss: 1.2754 - val_acc: 0.9200\n",
      "Epoch 28/50\n",
      "1199/1199 [==============================] - 0s 160us/step - loss: 1.7019 - acc: 0.8932 - val_loss: 1.2754 - val_acc: 0.9200\n",
      "Epoch 29/50\n",
      "1199/1199 [==============================] - 0s 165us/step - loss: 1.7019 - acc: 0.8932 - val_loss: 1.2754 - val_acc: 0.9200\n",
      "Epoch 30/50\n",
      "1199/1199 [==============================] - 0s 167us/step - loss: 1.7019 - acc: 0.8932 - val_loss: 1.2754 - val_acc: 0.9200\n",
      "Epoch 31/50\n",
      "1199/1199 [==============================] - 0s 158us/step - loss: 1.7019 - acc: 0.8932 - val_loss: 1.2754 - val_acc: 0.9200\n",
      "Epoch 32/50\n",
      "1199/1199 [==============================] - 0s 152us/step - loss: 1.7019 - acc: 0.8932 - val_loss: 1.2754 - val_acc: 0.9200\n",
      "Epoch 33/50\n",
      "1199/1199 [==============================] - 0s 169us/step - loss: 1.7019 - acc: 0.8932 - val_loss: 1.2754 - val_acc: 0.9200\n",
      "Epoch 34/50\n",
      "1199/1199 [==============================] - 0s 164us/step - loss: 1.7019 - acc: 0.8932 - val_loss: 1.2754 - val_acc: 0.9200\n",
      "Epoch 35/50\n",
      "1199/1199 [==============================] - 0s 163us/step - loss: 1.7019 - acc: 0.8932 - val_loss: 1.2754 - val_acc: 0.9200\n",
      "Epoch 36/50\n",
      "1199/1199 [==============================] - 0s 137us/step - loss: 1.7019 - acc: 0.8932 - val_loss: 1.2754 - val_acc: 0.9200\n",
      "Epoch 37/50\n",
      "1199/1199 [==============================] - 0s 142us/step - loss: 1.7019 - acc: 0.8932 - val_loss: 1.2754 - val_acc: 0.9200\n",
      "Epoch 38/50\n",
      "1199/1199 [==============================] - 0s 131us/step - loss: 1.7019 - acc: 0.8932 - val_loss: 1.2754 - val_acc: 0.9200\n",
      "Epoch 39/50\n",
      "1199/1199 [==============================] - 0s 141us/step - loss: 1.7019 - acc: 0.8932 - val_loss: 1.2754 - val_acc: 0.9200\n",
      "Epoch 40/50\n",
      "1199/1199 [==============================] - 0s 152us/step - loss: 1.7019 - acc: 0.8932 - val_loss: 1.2754 - val_acc: 0.9200\n",
      "Epoch 41/50\n",
      "1199/1199 [==============================] - 0s 145us/step - loss: 1.7019 - acc: 0.8932 - val_loss: 1.2754 - val_acc: 0.9200\n",
      "Epoch 42/50\n",
      "1199/1199 [==============================] - 0s 148us/step - loss: 1.7019 - acc: 0.8932 - val_loss: 1.2754 - val_acc: 0.9200\n",
      "Epoch 43/50\n",
      "1199/1199 [==============================] - 0s 148us/step - loss: 1.7019 - acc: 0.8932 - val_loss: 1.2754 - val_acc: 0.9200\n",
      "Epoch 44/50\n",
      "1199/1199 [==============================] - 0s 144us/step - loss: 1.7019 - acc: 0.8932 - val_loss: 1.2754 - val_acc: 0.9200\n",
      "Epoch 45/50\n",
      "1199/1199 [==============================] - 0s 144us/step - loss: 1.7019 - acc: 0.8932 - val_loss: 1.2754 - val_acc: 0.9200\n",
      "Epoch 46/50\n",
      "1199/1199 [==============================] - 0s 149us/step - loss: 1.7019 - acc: 0.8932 - val_loss: 1.2754 - val_acc: 0.9200\n",
      "Epoch 47/50\n",
      "1199/1199 [==============================] - 0s 147us/step - loss: 1.7019 - acc: 0.8932 - val_loss: 1.2754 - val_acc: 0.9200\n",
      "Epoch 48/50\n",
      "1199/1199 [==============================] - 0s 134us/step - loss: 1.7019 - acc: 0.8932 - val_loss: 1.2754 - val_acc: 0.9200\n",
      "Epoch 49/50\n",
      "1199/1199 [==============================] - 0s 142us/step - loss: 1.7019 - acc: 0.8932 - val_loss: 1.2754 - val_acc: 0.9200\n",
      "Epoch 50/50\n",
      "1199/1199 [==============================] - 0s 143us/step - loss: 1.7019 - acc: 0.8932 - val_loss: 1.2754 - val_acc: 0.9200\n",
      "300/300 [==============================] - 0s 57us/step\n"
     ]
    }
   ],
   "source": [
    "model = Sequential()\n",
    "model.add(Dense(60, input_dim=6, activation='relu'))\n",
    "model.add(Dense(1, activation='sigmoid'))\n",
    "# Compile model\n",
    "model.compile(loss='binary_crossentropy', optimizer='rmsprop', metrics=['accuracy'])\n",
    "history = model.fit(X_train, y_train,validation_data=(X_test,y_test), batch_size = 10, epochs = 50)\n",
    "scores = model.evaluate(X_test,y_test,batch_size = 10)"
   ]
  },
  {
   "cell_type": "code",
   "execution_count": 21,
   "metadata": {},
   "outputs": [
    {
     "data": {
      "text/plain": [
       "[1.2753908815616921, 0.9199999928474426]"
      ]
     },
     "execution_count": 21,
     "metadata": {},
     "output_type": "execute_result"
    }
   ],
   "source": [
    "scores"
   ]
  },
  {
   "cell_type": "code",
   "execution_count": 22,
   "metadata": {
    "scrolled": true
   },
   "outputs": [
    {
     "data": {
      "image/png": "[encoded data removed]",
      "text/plain": [
       "<Figure size 432x288 with 1 Axes>"
      ]
     },
     "metadata": {
      "needs_background": "light"
     },
     "output_type": "display_data"
    }
   ],
   "source": [
    "plt.plot(history.history['loss'])\n",
    "plt.plot(history.history['val_loss'])\n",
    "plt.title('model loss')\n",
    "plt.ylabel('loss')\n",
    "plt.xlabel('epoch')\n",
    "plt.legend(['train', 'test'], loc='upper left')\n",
    "plt.show()"
   ]
  },
  {
   "cell_type": "code",
   "execution_count": 23,
   "metadata": {},
   "outputs": [
    {
     "data": {
      "image/png": "[encoded data removed]",
      "text/plain": [
       "<Figure size 432x288 with 1 Axes>"
      ]
     },
     "metadata": {
      "needs_background": "light"
     },
     "output_type": "display_data"
    }
   ],
   "source": [
    "plt.plot(history.history['acc'])\n",
    "plt.plot(history.history['val_acc'])\n",
    "plt.title('model acc')\n",
    "plt.ylabel('acc')\n",
    "plt.xlabel('epoch')\n",
    "plt.legend(['train', 'test'], loc='upper left')\n",
    "plt.show()"
   ]
  },
  {
   "cell_type": "code",
   "execution_count": 24,
   "metadata": {},
   "outputs": [
    {
     "name": "stdout",
     "output_type": "stream",
     "text": [
      "55/55 [==============================] - 0s 107us/step\n"
     ]
    },
    {
     "data": {
      "text/plain": [
       "[4.089439262043346, 0.7272727370262146]"
      ]
     },
     "execution_count": 24,
     "metadata": {},
     "output_type": "execute_result"
    }
   ],
   "source": [
    "scores = model.evaluate(mixed.iloc[:,:6],mixed.iloc[:,6:])\n",
    "scores"
   ]
  },
  {
   "cell_type": "code",
   "execution_count": null,
   "metadata": {},
   "outputs": [],
   "source": []
  },
  {
   "cell_type": "code",
   "execution_count": null,
   "metadata": {},
   "outputs": [],
   "source": []
  }
 ],
 "metadata": {
  "kernelspec": {
   "display_name": "Python 2",
   "language": "python",
   "name": "python2"
  },
  "language_info": {
   "codemirror_mode": {
    "name": "ipython",
    "version": 2
   },
   "file_extension": ".py",
   "mimetype": "text/x-python",
   "name": "python",
   "nbconvert_exporter": "python",
   "pygments_lexer": "ipython2",
   "version": "2.7.15"
  }
 },
 "nbformat": 4,
 "nbformat_minor": 2
}
